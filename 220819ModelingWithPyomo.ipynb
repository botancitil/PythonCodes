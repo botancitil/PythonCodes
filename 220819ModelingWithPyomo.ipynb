{
 "cells": [
  {
   "cell_type": "markdown",
   "metadata": {},
   "source": [
    "To install Pyomo:  conda install -c conda-forge pyomo </br>\n",
    "To install glpk:  conda install -c conda-forge glpk"
   ]
  },
  {
   "attachments": {
    "image.png": {
     "image/png": "[encoded data removed]"
    }
   },
   "cell_type": "markdown",
   "metadata": {},
   "source": [
    "![image.png](attachment:image.png)"
   ]
  },
  {
   "cell_type": "code",
   "execution_count": 1,
   "metadata": {
    "collapsed": true
   },
   "outputs": [],
   "source": [
    "import pyomo.environ as pyo\n",
    "from pyomo.opt import SolverFactory"
   ]
  },
  {
   "cell_type": "code",
   "execution_count": 2,
   "metadata": {
    "collapsed": true
   },
   "outputs": [],
   "source": [
    "#Small concrete model example as shown above\n",
    "model = pyo.ConcreteModel()\n",
    "\n",
    "model.x = pyo.Var([1,2], domain=pyo.NonNegativeReals)\n",
    "\n",
    "model.OBJ = pyo.Objective(expr = 2*model.x[1] + 3*model.x[2])\n",
    "\n",
    "model.Constraint1 = pyo.Constraint(expr = 3*model.x[1] + 4*model.x[2] >= 1)"
   ]
  },
  {
   "cell_type": "code",
   "execution_count": 3,
   "metadata": {},
   "outputs": [
    {
     "data": {
      "text/plain": [
       "{'Problem': [{'Name': 'unknown', 'Lower bound': 0.666666666666667, 'Upper bound': 0.666666666666667, 'Number of objectives': 1, 'Number of constraints': 2, 'Number of variables': 3, 'Number of nonzeros': 3, 'Sense': 'minimize'}], 'Solver': [{'Status': 'ok', 'Termination condition': 'optimal', 'Statistics': {'Branch and bound': {'Number of bounded subproblems': 0, 'Number of created subproblems': 0}}, 'Error rc': 0, 'Time': 0.03124260902404785}], 'Solution': [OrderedDict([('number of solutions', 0), ('number of solutions displayed', 0)])]}"
      ]
     },
     "execution_count": 3,
     "metadata": {},
     "output_type": "execute_result"
    }
   ],
   "source": [
    "opt = pyo.SolverFactory('glpk')\n",
    "opt.solve(model) "
   ]
  },
  {
   "cell_type": "markdown",
   "metadata": {},
   "source": [
    "# Baby L1 03by0004-01-01\n",
    "Response\n",
    "0.307118323\n",
    "-3.560866224\n",
    "-0.8175538009\n",
    "32.62916794\n",
    "</br>\n",
    "Explanatory1\n",
    "50.2415881\n",
    "-11.20589167\n",
    "46.87700307\n",
    "22.86429424\n",
    "</br>\n",
    "Explanatory2\n",
    "-45.18595533\n",
    "-52.24616322\n",
    "-48.37284647\n",
    "-49.5144371"
   ]
  },
  {
   "cell_type": "code",
   "execution_count": 10,
   "metadata": {
    "collapsed": true
   },
   "outputs": [],
   "source": [
    "#Small concrete L1 regression LP model of dataset 03by0004-01-01 in Experiments Google Sheet file\n",
    "\n",
    "#Data columns are created as a list. Each column is a list\n",
    "response=[0.307118323,-3.560866224,-0.8175538009,32.62916794]\n",
    "explanatory1=[50.2415881,-11.20589167,46.87700307,22.86429424]\n",
    "explanatory2=[-45.18595533,-52.24616322,-48.37284647,-49.5144371]\n",
    "\n",
    "#Creating a Pyomo model object. There are two types of model objects 1-ConcereteModel (spesific notation) 2-AbstractModel (generalized notation)\n",
    "model = pyo.ConcreteModel()\n",
    "\n",
    "#Creating Pyomo variable objects\n",
    "model.betaValues = pyo.Var([1,2,3])\n",
    "model.zPlus = pyo.Var([1,2,3,4], domain=pyo.NonNegativeReals)\n",
    "model.zMinus = pyo.Var([1,2,3,4], domain=pyo.NonNegativeReals)\n",
    "\n",
    "#Creating the objective function object\n",
    "model.OBJ = pyo.Objective(expr = model.zPlus[1] + model.zPlus[2] + model.zPlus[3] + model.zPlus[4] + model.zMinus[1] + model.zMinus[2] + model.zMinus[3] + model.zMinus[4])\n",
    "\n",
    "#Creating the constraint objects\n",
    "model.Constraint1 = pyo.Constraint(expr = model.betaValues[1] + explanatory1[0]*model.betaValues[2] + explanatory2[0]*model.betaValues[3] + model.zPlus[1] - model.zMinus[1] == response[0])\n",
    "model.Constraint2 = pyo.Constraint(expr = model.betaValues[1] + explanatory1[1]*model.betaValues[2] + explanatory2[1]*model.betaValues[3] + model.zPlus[2] - model.zMinus[2] == response[1])\n",
    "model.Constraint3 = pyo.Constraint(expr = model.betaValues[1] + explanatory1[2]*model.betaValues[2] + explanatory2[2]*model.betaValues[3] + model.zPlus[3] - model.zMinus[3] == response[2])\n",
    "model.Constraint4 = pyo.Constraint(expr = model.betaValues[1] + explanatory1[3]*model.betaValues[2] + explanatory2[3]*model.betaValues[3] + model.zPlus[4] - model.zMinus[4] == response[3])"
   ]
  },
  {
   "cell_type": "code",
   "execution_count": 11,
   "metadata": {},
   "outputs": [
    {
     "data": {
      "text/plain": [
       "{'Problem': [{'Name': 'unknown', 'Lower bound': 34.430999997067, 'Upper bound': 34.430999997067, 'Number of objectives': 1, 'Number of constraints': 5, 'Number of variables': 12, 'Number of nonzeros': 21, 'Sense': 'minimize'}], 'Solver': [{'Status': 'ok', 'Termination condition': 'optimal', 'Statistics': {'Branch and bound': {'Number of bounded subproblems': 0, 'Number of created subproblems': 0}}, 'Error rc': 0, 'Time': 0.03125286102294922}], 'Solution': [OrderedDict([('number of solutions', 0), ('number of solutions displayed', 0)])]}"
      ]
     },
     "execution_count": 11,
     "metadata": {},
     "output_type": "execute_result"
    }
   ],
   "source": [
    "opt = pyo.SolverFactory('glpk')\n",
    "opt.solve(model) "
   ]
  },
  {
   "cell_type": "code",
   "execution_count": 12,
   "metadata": {},
   "outputs": [
    {
     "name": "stdout",
     "output_type": "stream",
     "text": [
      "Model unknown\n",
      "\n",
      "  Variables:\n",
      "    betaValues : Size=3, Index=betaValues_index\n",
      "        Key : Lower : Value              : Upper : Fixed : Stale : Domain\n",
      "          1 :  None :   13.7566505308338 :  None : False : False :  Reals\n",
      "          2 :  None : 0.0254918453972249 :  None : False : False :  Reals\n",
      "          3 :  None :  0.325992510208372 :  None : False : False :  Reals\n",
      "    zPlus : Size=4, Index=zPlus_index\n",
      "        Key : Lower : Value           : Upper : Fixed : Stale : Domain\n",
      "          1 :     0 :             0.0 :  None : False : False : NonNegativeReals\n",
      "          2 :     0 :             0.0 :  None : False : False : NonNegativeReals\n",
      "          3 :     0 :             0.0 :  None : False : False : NonNegativeReals\n",
      "          4 :     0 : 34.430999997067 :  None : False : False : NonNegativeReals\n",
      "    zMinus : Size=4, Index=zMinus_index\n",
      "        Key : Lower : Value : Upper : Fixed : Stale : Domain\n",
      "          1 :     0 :   0.0 :  None : False : False : NonNegativeReals\n",
      "          2 :     0 :   0.0 :  None : False : False : NonNegativeReals\n",
      "          3 :     0 :   0.0 :  None : False : False : NonNegativeReals\n",
      "          4 :     0 :   0.0 :  None : False : False : NonNegativeReals\n",
      "\n",
      "  Objectives:\n",
      "    OBJ : Size=1, Index=None, Active=True\n",
      "        Key  : Active : Value\n",
      "        None :   True : 34.430999997067\n",
      "\n",
      "  Constraints:\n",
      "    Constraint1 : Size=1\n",
      "        Key  : Lower       : Body               : Upper\n",
      "        None : 0.307118323 : 0.3071183229999903 : 0.307118323\n",
      "    Constraint2 : Size=1\n",
      "        Key  : Lower        : Body                : Upper\n",
      "        None : -3.560866224 : -3.5608662240000086 : -3.560866224\n",
      "    Constraint3 : Size=1\n",
      "        Key  : Lower         : Body                : Upper\n",
      "        None : -0.8175538009 : -0.8175538009000078 : -0.8175538009\n",
      "    Constraint4 : Size=1\n",
      "        Key  : Lower       : Body               : Upper\n",
      "        None : 32.62916794 : 32.629167939999995 : 32.62916794\n"
     ]
    }
   ],
   "source": [
    "model.display()"
   ]
  },
  {
   "cell_type": "code",
   "execution_count": null,
   "metadata": {
    "collapsed": true
   },
   "outputs": [],
   "source": []
  }
 ],
 "metadata": {
  "kernelspec": {
   "display_name": "Python 3",
   "language": "python",
   "name": "python3"
  },
  "language_info": {
   "codemirror_mode": {
    "name": "ipython",
    "version": 3
   },
   "file_extension": ".py",
   "mimetype": "text/x-python",
   "name": "python",
   "nbconvert_exporter": "python",
   "pygments_lexer": "ipython3",
   "version": "3.6.1"
  }
 },
 "nbformat": 4,
 "nbformat_minor": 5
}
